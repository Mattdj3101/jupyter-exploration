{
 "cells": [
  {
   "cell_type": "markdown",
   "id": "ee0e8d0e-67f3-4b0a-931d-ef041db755f1",
   "metadata": {},
   "source": [
    "My first markdown cell in Jupyter."
   ]
  },
  {
   "cell_type": "code",
   "execution_count": 2,
   "id": "f4673996-7891-40a7-b53e-ca0d3c18854a",
   "metadata": {},
   "outputs": [
    {
     "name": "stdout",
     "output_type": "stream",
     "text": [
      "Hello, World!\n"
     ]
    }
   ],
   "source": [
    "print(\"Hello, World!\")"
   ]
  },
  {
   "cell_type": "code",
   "execution_count": null,
   "id": "5c865374-be18-4b22-856e-7626193483c4",
   "metadata": {},
   "outputs": [],
   "source": []
  }
 ],
 "metadata": {
  "kernelspec": {
   "display_name": "Python [conda env:base] *",
   "language": "python",
   "name": "conda-base-py"
  },
  "language_info": {
   "codemirror_mode": {
    "name": "ipython",
    "version": 3
   },
   "file_extension": ".py",
   "mimetype": "text/x-python",
   "name": "python",
   "nbconvert_exporter": "python",
   "pygments_lexer": "ipython3",
   "version": "3.11.5"
  }
 },
 "nbformat": 4,
 "nbformat_minor": 5
}
